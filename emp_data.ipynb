{
  "nbformat": 4,
  "nbformat_minor": 0,
  "metadata": {
    "colab": {
      "provenance": []
    },
    "kernelspec": {
      "name": "python3",
      "display_name": "Python 3"
    },
    "language_info": {
      "name": "python"
    }
  },
  "cells": [
    {
      "cell_type": "code",
      "execution_count": 1,
      "metadata": {
        "id": "vOtclXkux_MI"
      },
      "outputs": [],
      "source": [
        "from pyspark.sql import SparkSession\n",
        "from pyspark.sql.functions import col,when\n"
      ]
    },
    {
      "cell_type": "code",
      "source": [
        "spark = SparkSession.builder.appName(\"emp_data\").getOrCreate()\n",
        "\n",
        "path = \"/content/drive/MyDrive/Colab Notebooks/newDataSets/emp_data.csv\"\n",
        "\n",
        "df = spark.read.csv(path, header = True, inferSchema = True)\n",
        "\n",
        "df.show(5)"
      ],
      "metadata": {
        "colab": {
          "base_uri": "https://localhost:8080/"
        },
        "id": "jOylu2KayKQg",
        "outputId": "a524f122-3620-4f9c-f6e5-d5ea8d1d861a"
      },
      "execution_count": 16,
      "outputs": [
        {
          "output_type": "stream",
          "name": "stdout",
          "text": [
            "+-----+---------+--------+---------+---------+------------------+----------------+------------+--------------+------------+-------+--------------------------+---------------+--------------+--------------------+----------+-----+----------------------+----------+------------+--------+-----------+-----------------+-----------------------+\n",
            "|EmpID|FirstName|LastName|StartDate| ExitDate|             Title|      Supervisor|BusinessUnit|EmployeeStatus|EmployeeType|PayZone|EmployeeClassificationType|TerminationType|DepartmentType|            Division|       DOB|State|JobFunctionDescription|GenderCode|LocationCode|RaceDesc|MaritalDesc|Performance Score|Current Employee Rating|\n",
            "+-----+---------+--------+---------+---------+------------------+----------------+------------+--------------+------------+-------+--------------------------+---------------+--------------+--------------------+----------+-----+----------------------+----------+------------+--------+-----------+-----------------+-----------------------+\n",
            "| 3461|  Lincoln| Compton|18-Jul-19|01-Oct-21|Area Sales Manager|    Tammy Conner|          EW|  Future Start|   Full-Time| Zone C|                 Part-Time|    Resignation|         Sales|       General - Con|29-12-1997|   CO|               Foreman|      Male|       78046|Hispanic|    Married|Needs Improvement|                      1|\n",
            "| 3463|   Kayden|  Dodson|30-Apr-20|18-Jul-21|Area Sales Manager|  Jessica Peters|         TNS|        Active|   Part-Time| Zone A|                 Temporary|     Retirement|         Sales|    Field Operations|21-06-1951|   IN|            Tower Hand|      Male|       12703|Hispanic|     Single|      Fully Meets|                      1|\n",
            "| 3467|    Celia|  Curtis|06-May-20|     NULL|Area Sales Manager|Michael Odonnell|         WBL|        Active|    Contract| Zone A|                 Part-Time|            Unk|         Sales|            Fielders|14-05-1987|   KY|              Engineer|    Female|       94333|   Asian|   Divorced|          Exceeds|                      6|\n",
            "| 3480| Jerimiah|  Harmon|08-Sep-22|16-Oct-22|Area Sales Manager|       Eric King|          PL|  Future Start|   Full-Time| Zone C|                 Temporary|     Retirement|         Sales|                Catv|09-08-1946|   TX|            Supervisor|    Female|       75671|   Black|    Widowed|      Fully Meets|                      6|\n",
            "| 3483|  Jaslene| Harding|26-Sep-21|     NULL|Area Sales Manager|Krystal Hamilton|         SVG|        Active|   Part-Time| Zone B|                 Temporary|            Unk|         Sales|Project Managemen...|19-06-1964|   CO|           Coordinator|      Male|       42605|   Asian|    Widowed|      Fully Meets|                      6|\n",
            "+-----+---------+--------+---------+---------+------------------+----------------+------------+--------------+------------+-------+--------------------------+---------------+--------------+--------------------+----------+-----+----------------------+----------+------------+--------+-----------+-----------------+-----------------------+\n",
            "only showing top 5 rows\n",
            "\n"
          ]
        }
      ]
    },
    {
      "cell_type": "code",
      "source": [
        "from pyspark.sql import functions as F\n",
        "\n",
        "columns_with_missing = [\n",
        "\n",
        "    col for col in df.columns if df.filter(df[col].isNull()).count() > 0\n",
        "]\n",
        "\n",
        "print(columns_with_missing)"
      ],
      "metadata": {
        "colab": {
          "base_uri": "https://localhost:8080/"
        },
        "id": "Hqdwia-k3dc_",
        "outputId": "5c6f7b2e-5b80-49f3-8215-fe7feffc5775"
      },
      "execution_count": 17,
      "outputs": [
        {
          "output_type": "stream",
          "name": "stdout",
          "text": [
            "['ExitDate']\n"
          ]
        }
      ]
    },
    {
      "cell_type": "code",
      "source": [
        "# df = df.withColumn(F.col(\"LastName\"),\n",
        "#                    F.when(F.col(\"LastName\").isNull(),\"Unknown\").otherwise(F.col(\"LastName\")))\n",
        "\n",
        "# df.show(5)\n",
        "\n",
        "df = df.fillna({\"LastName\":\"Unknown\"})\n",
        "\n",
        "df = df.dropna(subset=[\"EmpID\",\"StartDate\"])\n",
        "\n",
        "df.show(5)"
      ],
      "metadata": {
        "colab": {
          "base_uri": "https://localhost:8080/"
        },
        "id": "azIL_kGM397T",
        "outputId": "22545be7-bc07-4aed-9463-84b35842788d"
      },
      "execution_count": 18,
      "outputs": [
        {
          "output_type": "stream",
          "name": "stdout",
          "text": [
            "+-----+---------+--------+---------+---------+------------------+----------------+------------+--------------+------------+-------+--------------------------+---------------+--------------+--------------------+----------+-----+----------------------+----------+------------+--------+-----------+-----------------+-----------------------+\n",
            "|EmpID|FirstName|LastName|StartDate| ExitDate|             Title|      Supervisor|BusinessUnit|EmployeeStatus|EmployeeType|PayZone|EmployeeClassificationType|TerminationType|DepartmentType|            Division|       DOB|State|JobFunctionDescription|GenderCode|LocationCode|RaceDesc|MaritalDesc|Performance Score|Current Employee Rating|\n",
            "+-----+---------+--------+---------+---------+------------------+----------------+------------+--------------+------------+-------+--------------------------+---------------+--------------+--------------------+----------+-----+----------------------+----------+------------+--------+-----------+-----------------+-----------------------+\n",
            "| 3461|  Lincoln| Compton|18-Jul-19|01-Oct-21|Area Sales Manager|    Tammy Conner|          EW|  Future Start|   Full-Time| Zone C|                 Part-Time|    Resignation|         Sales|       General - Con|29-12-1997|   CO|               Foreman|      Male|       78046|Hispanic|    Married|Needs Improvement|                      1|\n",
            "| 3463|   Kayden|  Dodson|30-Apr-20|18-Jul-21|Area Sales Manager|  Jessica Peters|         TNS|        Active|   Part-Time| Zone A|                 Temporary|     Retirement|         Sales|    Field Operations|21-06-1951|   IN|            Tower Hand|      Male|       12703|Hispanic|     Single|      Fully Meets|                      1|\n",
            "| 3467|    Celia|  Curtis|06-May-20|     NULL|Area Sales Manager|Michael Odonnell|         WBL|        Active|    Contract| Zone A|                 Part-Time|            Unk|         Sales|            Fielders|14-05-1987|   KY|              Engineer|    Female|       94333|   Asian|   Divorced|          Exceeds|                      6|\n",
            "| 3480| Jerimiah|  Harmon|08-Sep-22|16-Oct-22|Area Sales Manager|       Eric King|          PL|  Future Start|   Full-Time| Zone C|                 Temporary|     Retirement|         Sales|                Catv|09-08-1946|   TX|            Supervisor|    Female|       75671|   Black|    Widowed|      Fully Meets|                      6|\n",
            "| 3483|  Jaslene| Harding|26-Sep-21|     NULL|Area Sales Manager|Krystal Hamilton|         SVG|        Active|   Part-Time| Zone B|                 Temporary|            Unk|         Sales|Project Managemen...|19-06-1964|   CO|           Coordinator|      Male|       42605|   Asian|    Widowed|      Fully Meets|                      6|\n",
            "+-----+---------+--------+---------+---------+------------------+----------------+------------+--------------+------------+-------+--------------------------+---------------+--------------+--------------------+----------+-----+----------------------+----------+------------+--------+-----------+-----------------+-----------------------+\n",
            "only showing top 5 rows\n",
            "\n"
          ]
        }
      ]
    },
    {
      "cell_type": "code",
      "source": [
        "df = df.drop(\"New_Rating\")\n",
        "df = df.withColumn(\n",
        "    \"Current Employee Rating\",\n",
        "    F.when(F.col(\"Current Employee Rating\") < 1, 1)\n",
        "    .when(F.col(\"Current Employee Rating\") > 5, 5)\n",
        "    .otherwise(F.col(\"Current Employee Rating\"))\n",
        ")\n",
        "df.show()"
      ],
      "metadata": {
        "colab": {
          "base_uri": "https://localhost:8080/"
        },
        "id": "OGN_yrEe4QnQ",
        "outputId": "f78213cf-16da-4ca5-a1bb-a6047745c47a"
      },
      "execution_count": 19,
      "outputs": [
        {
          "output_type": "stream",
          "name": "stdout",
          "text": [
            "+-----+---------+---------+---------+---------+------------------+----------------+------------+--------------+------------+-------+--------------------------+---------------+--------------+--------------------+----------+-----+----------------------+----------+------------+--------+-----------+-----------------+-----------------------+\n",
            "|EmpID|FirstName| LastName|StartDate| ExitDate|             Title|      Supervisor|BusinessUnit|EmployeeStatus|EmployeeType|PayZone|EmployeeClassificationType|TerminationType|DepartmentType|            Division|       DOB|State|JobFunctionDescription|GenderCode|LocationCode|RaceDesc|MaritalDesc|Performance Score|Current Employee Rating|\n",
            "+-----+---------+---------+---------+---------+------------------+----------------+------------+--------------+------------+-------+--------------------------+---------------+--------------+--------------------+----------+-----+----------------------+----------+------------+--------+-----------+-----------------+-----------------------+\n",
            "| 3461|  Lincoln|  Compton|18-Jul-19|01-Oct-21|Area Sales Manager|    Tammy Conner|          EW|  Future Start|   Full-Time| Zone C|                 Part-Time|    Resignation|         Sales|       General - Con|29-12-1997|   CO|               Foreman|      Male|       78046|Hispanic|    Married|Needs Improvement|                      1|\n",
            "| 3463|   Kayden|   Dodson|30-Apr-20|18-Jul-21|Area Sales Manager|  Jessica Peters|         TNS|        Active|   Part-Time| Zone A|                 Temporary|     Retirement|         Sales|    Field Operations|21-06-1951|   IN|            Tower Hand|      Male|       12703|Hispanic|     Single|      Fully Meets|                      1|\n",
            "| 3467|    Celia|   Curtis|06-May-20|     NULL|Area Sales Manager|Michael Odonnell|         WBL|        Active|    Contract| Zone A|                 Part-Time|            Unk|         Sales|            Fielders|14-05-1987|   KY|              Engineer|    Female|       94333|   Asian|   Divorced|          Exceeds|                      5|\n",
            "| 3480| Jerimiah|   Harmon|08-Sep-22|16-Oct-22|Area Sales Manager|       Eric King|          PL|  Future Start|   Full-Time| Zone C|                 Temporary|     Retirement|         Sales|                Catv|09-08-1946|   TX|            Supervisor|    Female|       75671|   Black|    Widowed|      Fully Meets|                      5|\n",
            "| 3483|  Jaslene|  Harding|26-Sep-21|     NULL|Area Sales Manager|Krystal Hamilton|         SVG|        Active|   Part-Time| Zone B|                 Temporary|            Unk|         Sales|Project Managemen...|19-06-1964|   CO|           Coordinator|      Male|       42605|   Asian|    Widowed|      Fully Meets|                      5|\n",
            "| 3492|  Vicente|  Merritt|26-Nov-19|     NULL|Area Sales Manager|    Ashley Smith|          PL|        Active|   Full-Time| Zone C|                 Full-Time|            Unk|         Sales|       General - Con|08-01-1993|   CO|                 Clerk|      Male|       31676|   Asian|    Married|      Fully Meets|                      1|\n",
            "| 3497|   Graham|Rodriguez|08-Dec-21|     NULL|Area Sales Manager|   Kendra Murray|         TNS|        Active|   Part-Time| Zone C|                 Temporary|            Unk|         Sales|Project Managemen...|18-02-1981|   OR|               Lineman|    Female|       58210|Hispanic|    Widowed|      Fully Meets|                      5|\n",
            "| 3500|   Nevaeh|    Lucas|20-Nov-18|21-Jun-20|Area Sales Manager|   Bryan Douglas|         NEL|        Active|   Full-Time| Zone B|                 Part-Time|      Voluntary|         Sales|        Shop (Fleet)|25-02-2000|   TX|              Mechanic|    Female|       80424|   White|   Divorced|      Fully Meets|                      1|\n",
            "| 3502|   Eugene|    Marks|01-Oct-19|     NULL|Area Sales Manager|   Angela Morris|         BPC|        Active|   Full-Time| Zone C|                 Temporary|            Unk|         Sales|            Splicing|29-06-1976|   TX|           Electrician|      Male|       49914|   White|    Married|      Fully Meets|                      1|\n",
            "| 3505|    Amaya|    Hicks|29-Aug-20|     NULL|Area Sales Manager| Michael Wilkins|          EW|        Active|    Contract| Zone B|                 Temporary|            Unk|         Sales|    Field Operations|24-07-1943|   IN|             Groundman|      Male|       72324|Hispanic|    Widowed|      Fully Meets|                      1|\n",
            "| 3514|   Alexus|    Estes|15-Apr-20|     NULL|Area Sales Manager|  April Randolph|         BPC|        Active|   Full-Time| Zone B|                 Part-Time|            Unk|         Sales|Wireline Construc...|03-01-1958|   TX|               Manager|      Male|       17419|   Asian|    Married|      Fully Meets|                      1|\n",
            "| 3520|   Caiden|    Munoz|13-Dec-20|13-Jan-23|Area Sales Manager|   Teresa Daniel|         TNS|        Active|   Full-Time| Zone C|                 Temporary|    Involuntary|         Sales|Project Managemen...|01-03-1963|   ND|               Manager|    Female|       18983|   Black|   Divorced|      Fully Meets|                      1|\n",
            "| 3522|  Marques|Armstrong|02-Mar-20|     NULL|Area Sales Manager|  Michael Nguyen|         BPC|        Active|   Full-Time| Zone C|                 Part-Time|            Unk|         Sales|            Splicing|12-10-1983|   KY|               Splicer|    Female|       34369|   Other|     Single|      Fully Meets|                      1|\n",
            "| 3527|    Ahmed|  Hawkins|01-May-20|25-Feb-21|Area Sales Manager|   Hannah Snyder|          PL|        Active|   Full-Time| Zone B|                 Temporary|     Retirement|         Sales|              Aerial|15-10-1974|   CO|               Lineman|      Male|       46645|   Black|    Married|      Fully Meets|                      1|\n",
            "| 3531|   Ronnie|    Mayer|17-Jun-23|     NULL|Area Sales Manager|     Dylan Blake|         WBL|        Active|   Full-Time| Zone C|                 Full-Time|            Unk|         Sales|Project Managemen...|18-05-1943|   CA|       Project Manager|      Male|       18409|   Black|   Divorced|      Fully Meets|                      1|\n",
            "| 3532|   Marlon|     Ford|14-Oct-21|     NULL|Area Sales Manager|Monique Anderson|          EW|        Active|   Part-Time| Zone B|                 Full-Time|            Unk|         IT/IS|            Wireless|27-11-1966|   OR|            Technician|    Female|       40306|   Black|    Widowed|      Fully Meets|                      1|\n",
            "| 3542|    Ellie|     Gill|15-Apr-23|     NULL|Area Sales Manager|   Amanda Knight|          EW|        Active|    Contract| Zone A|                 Temporary|            Unk|         Sales|    Field Operations|01-03-1948|   IN|               Manager|      Male|       45456|   White|    Married|Needs Improvement|                      1|\n",
            "| 3545|    Ryann|    Rubio|07-Mar-22|     NULL|Area Sales Manager|    Andres Jones|          EW|        Active|   Full-Time| Zone C|                 Temporary|            Unk|         IT/IS|    Field Operations|28-01-1943|   OR|               Locator|    Female|        9733|   Black|    Widowed|      Fully Meets|                      1|\n",
            "| 3546|    Paris|     Carr|31-Jul-21|27-Jan-23|Area Sales Manager| Jeffrey Huffman|        CCDR|        Active|   Full-Time| Zone B|                 Part-Time|      Voluntary|         Sales|       General - Con|14-07-1980|   ND|               Foreman|      Male|       35786|Hispanic|    Widowed|          Exceeds|                      1|\n",
            "| 3548|    Sanaa|    Glass|11-Jul-21|10-Oct-22|Area Sales Manager|  Stephen Garcia|         WBL|        Active|   Part-Time| Zone A|                 Full-Time|    Resignation|         Sales|       General - Con|25-01-1964|   KY|            Technician|    Female|       40135|   White|     Single|      Fully Meets|                      1|\n",
            "+-----+---------+---------+---------+---------+------------------+----------------+------------+--------------+------------+-------+--------------------------+---------------+--------------+--------------------+----------+-----+----------------------+----------+------------+--------+-----------+-----------------+-----------------------+\n",
            "only showing top 20 rows\n",
            "\n"
          ]
        }
      ]
    },
    {
      "cell_type": "code",
      "source": [
        "df = df.dropDuplicates()\n",
        "\n",
        "df.show()"
      ],
      "metadata": {
        "colab": {
          "base_uri": "https://localhost:8080/"
        },
        "id": "-3qb3h9t5wpA",
        "outputId": "3f5915c4-8ffc-40e0-b5ba-31a672daa066"
      },
      "execution_count": 20,
      "outputs": [
        {
          "output_type": "stream",
          "name": "stdout",
          "text": [
            "+-----+---------+--------------+---------+---------+--------------------+--------------------+------------+----------------+------------+-------+--------------------------+---------------+-----------------+--------------------+----------+-----+----------------------+----------+------------+--------+-----------+-----------------+-----------------------+\n",
            "|EmpID|FirstName|      LastName|StartDate| ExitDate|               Title|          Supervisor|BusinessUnit|  EmployeeStatus|EmployeeType|PayZone|EmployeeClassificationType|TerminationType|   DepartmentType|            Division|       DOB|State|JobFunctionDescription|GenderCode|LocationCode|RaceDesc|MaritalDesc|Performance Score|Current Employee Rating|\n",
            "+-----+---------+--------------+---------+---------+--------------------+--------------------+------------+----------------+------------+-------+--------------------------+---------------+-----------------+--------------------+----------+-----+----------------------+----------+------------+--------+-----------+-----------------+-----------------------+\n",
            "| 3461|  Lincoln|       Compton|18-Jul-19|01-Oct-21|  Area Sales Manager|        Tammy Conner|          EW|    Future Start|   Full-Time| Zone C|                 Part-Time|    Resignation|            Sales|       General - Con|29-12-1997|   CO|               Foreman|      Male|       78046|Hispanic|    Married|Needs Improvement|                      1|\n",
            "| 3736|   Carsen|       Wheeler|18-Oct-20|22-Mar-23|Production Techni...|       Kimberly Soto|         SVG|          Active|   Full-Time| Zone A|                 Part-Time|    Resignation|Production       |Wireline Construc...|02-07-1976|   MA|               Laborer|      Male|       95345|   Other|    Married|      Fully Meets|                      2|\n",
            "| 3928|  Audrina|            Yu|27-Jan-21|18-Oct-21|    Network Engineer|       Walter Powell|         TNS|          Active|   Full-Time| Zone A|                 Temporary|    Resignation|            IT/IS|       General - Con|11-07-1956|   MA|               Laborer|      Male|       59834|   White|    Widowed|      Fully Meets|                      3|\n",
            "| 3574|     Anna|Von Massenbach|18-May-21|04-Jan-22|Production Techni...|      Timothy Weaver|         WBL|    Future Start|    Contract| Zone B|                 Full-Time|    Involuntary|Production       |         Underground|06-05-1951|   MA|               Laborer|    Female|        2124|Hispanic|    Widowed|      Fully Meets|                      1|\n",
            "| 3883|    Noemi|        Brewer|06-May-22|26-Sep-22|          IT Support|      Jacob Hamilton|         BPC|          Active|    Contract| Zone B|                 Full-Time|    Involuntary|            IT/IS|    Field Operations|16-06-1991|   MA|         Administrator|    Female|       11294|   White|    Widowed|      Fully Meets|                      3|\n",
            "| 3847|  Gilbert|         Klein|24-Feb-19|11-Jun-20|          IT Support|   Gregory Rodriguez|          PL|          Active|   Part-Time| Zone B|                 Temporary|     Retirement|            IT/IS|    Field Operations|06-09-1998|   MA|               Laborer|      Male|       53800|Hispanic|     Single|      Fully Meets|                      3|\n",
            "| 3879|     Liam|         Hanna|08-Feb-19|24-Feb-23|    Network Engineer|       Brian Aguirre|         PYZ|          Active|   Full-Time| Zone C|                 Part-Time|    Involuntary|            IT/IS|    Field Operations|13-01-1996|   MA|                 Clerk|      Male|       16655|Hispanic|    Married|      Fully Meets|                      3|\n",
            "| 3893|    Lukas|       Freeman|22-Mar-23|28-Jul-23|          IT Support|     Allison Shannon|          EW|          Active|   Full-Time| Zone B|                 Part-Time|    Involuntary|            IT/IS|       General - Con|15-04-1953|   MA|               Laborer|    Female|       68298|   Asian|    Married|      Fully Meets|                      3|\n",
            "| 3820|    Anita|       Shepard|11-Aug-18|21-May-21|    Network Engineer|         George Tran|          EW|          Active|    Contract| Zone C|                 Full-Time|      Voluntary|            IT/IS|       General - Con|29-09-1976|   MA|               Foreman|    Female|        1773|   Other|   Divorced|      Fully Meets|                      3|\n",
            "| 3592|    Andre|        Guzman|05-Oct-21|18-Jun-22|Production Techni...|Mrs. Audrey Gonza...|         TNS|    Future Start|    Contract| Zone B|                 Full-Time|      Voluntary|Production       |    Field Operations|23-12-1998|   MA|            Technician|      Male|        9454|   Other|     Single|      Fully Meets|                      3|\n",
            "| 3703|  Addisyn|      Guerrero|31-Aug-20|26-Jun-22|Production Techni...|            Cory Lee|          EW|          Active|   Part-Time| Zone A|                 Part-Time|    Resignation|Production       |           Engineers|15-02-1951|   MA|              Engineer|    Female|       87563|   White|    Widowed|          Exceeds|                      4|\n",
            "| 3525|  Clayton|     Mccormick|03-Jul-22|10-Jan-23|  Area Sales Manager|      Stephanie Duke|         MSC|    Future Start|    Contract| Zone B|                 Temporary|     Retirement|            Sales|       General - Con|29-01-1967|   TX|               Foreman|      Male|       72264|Hispanic|     Single|      Fully Meets|                      2|\n",
            "| 3814|    Jyoti|        Lajiri|07-Jan-19|05-Sep-20|Sr. Network Engineer|      Karen Crawford|          EW|Leave of Absence|   Part-Time| Zone C|                 Full-Time|     Retirement|            IT/IS|           Engineers|17-04-1955|   MA|           Coordinator|      Male|        2169|   Black|    Widowed|      Fully Meets|                      3|\n",
            "| 3822|  Katrina|       Lambert|24-Sep-19|04-Apr-22|    Network Engineer|   Calvin Williamson|         WBL|          Active|   Full-Time| Zone B|                 Part-Time|     Retirement| Executive Office|       General - Con|18-09-1975|   MA|            Technician|      Male|       56727|Hispanic|   Divorced|      Fully Meets|                      3|\n",
            "| 3766|    Elisa|         Henry|02-Feb-19|03-Feb-23|Production Techni...|       Taylor Morris|         PYZ|          Active|   Part-Time| Zone A|                 Part-Time|    Resignation|Production       |Yard (Material Ha...|10-03-1943|   MA|               Manager|    Female|       10110|   Black|    Widowed|      Fully Meets|                      3|\n",
            "| 3807|    Mayra|          Moss|15-Sep-21|10-Nov-21|Production Techni...|        George Doyle|          EW|          Active|    Contract| Zone C|                 Temporary|    Resignation|Production       |Project Managemen...|16-05-1964|   MA|               Manager|      Male|       84074|   Asian|     Single|      Fully Meets|                      3|\n",
            "| 3512|   Tyrone|          Sosa|17-Apr-23|22-Jun-23|  Area Sales Manager|       Lindsay Chang|         NEL|    Future Start|    Contract| Zone C|                 Temporary|      Voluntary|            Sales|Yard (Material Ha...|25-10-1996|   TX|           Coordinator|    Female|       58860|   Black|     Single|      Fully Meets|                      2|\n",
            "| 3541|    Aaron|         Weber|06-Apr-20|24-Jul-23|  Area Sales Manager|      Melanie Garcia|         SVG|          Active|   Full-Time| Zone B|                 Full-Time|    Involuntary|            Sales|    Field Operations|27-10-1991|   IN|            Technician|      Male|       78938|   Black|    Married|          Exceeds|                      2|\n",
            "| 3675|    Mario|          Mays|08-Jun-20|29-Dec-22|Production Techni...|      Melissa Torres|        CCDR|          Active|   Full-Time| Zone C|                 Full-Time|    Resignation|Production       |           Engineers|28-08-1952|   MA|            Technician|    Female|       70090|Hispanic|   Divorced|      Fully Meets|                      3|\n",
            "| 3518|  Roberto|       Michael|10-Apr-21|04-Jul-22|  Area Sales Manager|        Cheryl Henry|         MSC|          Active|    Contract| Zone B|                 Part-Time|    Involuntary|            Sales|       General - Eng|24-05-1969|   CA|           Coordinator|    Female|       13249|Hispanic|    Married|      Fully Meets|                      2|\n",
            "+-----+---------+--------------+---------+---------+--------------------+--------------------+------------+----------------+------------+-------+--------------------------+---------------+-----------------+--------------------+----------+-----+----------------------+----------+------------+--------+-----------+-----------------+-----------------------+\n",
            "only showing top 20 rows\n",
            "\n"
          ]
        }
      ]
    },
    {
      "cell_type": "code",
      "source": [
        "df_1 = df.groupBy(\"DepartmentType\",\"Title\").count()\n",
        "\n",
        "df_1.show()"
      ],
      "metadata": {
        "colab": {
          "base_uri": "https://localhost:8080/"
        },
        "id": "ewgOV5M398MP",
        "outputId": "a3099683-0d02-4998-dac1-c9b68b67fae8"
      },
      "execution_count": 25,
      "outputs": [
        {
          "output_type": "stream",
          "name": "stdout",
          "text": [
            "+-----------------+--------------------+-----+\n",
            "|   DepartmentType|               Title|count|\n",
            "+-----------------+--------------------+-----+\n",
            "|            IT/IS|       Data Analyst |    1|\n",
            "|Production       |Production Techni...|    1|\n",
            "|            IT/IS|Principal Data Ar...|    8|\n",
            "|            IT/IS|        Data Analyst|   10|\n",
            "|Production       |    Network Engineer|    1|\n",
            "|            IT/IS|Sr. Network Engineer|   30|\n",
            "| Executive Office|    Network Engineer|   18|\n",
            "|            IT/IS|    Network Engineer|   22|\n",
            "|            IT/IS|      Data Architect|    2|\n",
            "|            IT/IS|  Area Sales Manager|    7|\n",
            "|            Sales|  Area Sales Manager|  119|\n",
            "|            IT/IS|Enterprise Architect|    5|\n",
            "|            IT/IS|          IT Support|   44|\n",
            "|            Sales| Area Sales Manager?|    1|\n",
            "|            Sales| Area Sales Manager.|    1|\n",
            "|            IT/IS|Software Engineer...|    1|\n",
            "|            IT/IS|      Sr. Accountant|    4|\n",
            "|            IT/IS|             Sr. DBA|    6|\n",
            "|            IT/IS|Database Administ...|   15|\n",
            "|            IT/IS|                 CIO|    2|\n",
            "+-----------------+--------------------+-----+\n",
            "only showing top 20 rows\n",
            "\n"
          ]
        }
      ]
    },
    {
      "cell_type": "code",
      "source": [
        "performance_score_map = {\n",
        "    \"Needs Improvement\" : 1,\n",
        "    \"Fully Meets\" : 2,\n",
        "    \"Exceeds\" : 3\n",
        "}\n",
        "\n",
        "import pyspark.sql.functions as F\n",
        "\n",
        "df_perf = df.withColumn(\n",
        "    \"performance_numeric\",\n",
        "    F.when(F.col(\"Performance Score\") == \"Needs Improvement\", 1)\n",
        "    .when(F.col(\"Performance Score\") == \"Fully Meets\", 2)\n",
        "    .when(F.col(\"Performance Score\") == \"Exceeds\", 3)\n",
        "    .otherwise(0)\n",
        ")\n",
        "\n",
        "df_max_perf = df_perf.groupBy(\"DepartmentType\").agg(F.max(\"performance_numeric\").alias(\"max_performance_score\"))\n",
        "\n",
        "resultdf = df_perf.join(df_max_perf,\n",
        "                        (df_perf[\"DepartmentType\"] == df_max_perf[\"DepartmentType\"])&\n",
        "                        (df_perf[\"performance_numeric\"] == df_max_perf[\"max_performance_score\"]), \"inner\"\n",
        "                        )\n",
        "resultdf.show()"
      ],
      "metadata": {
        "colab": {
          "base_uri": "https://localhost:8080/"
        },
        "id": "N1bMvd-S--RG",
        "outputId": "57d6d4e2-cd3d-4c30-832c-49485d4379bd"
      },
      "execution_count": 29,
      "outputs": [
        {
          "output_type": "stream",
          "name": "stdout",
          "text": [
            "+-----+---------+--------+---------+---------+--------------------+----------------+------------+--------------------+------------+-------+--------------------------+---------------+--------------------+--------------------+----------+-----+----------------------+----------+------------+--------+-----------+-----------------+-----------------------+-------------------+--------------------+---------------------+\n",
            "|EmpID|FirstName|LastName|StartDate| ExitDate|               Title|      Supervisor|BusinessUnit|      EmployeeStatus|EmployeeType|PayZone|EmployeeClassificationType|TerminationType|      DepartmentType|            Division|       DOB|State|JobFunctionDescription|GenderCode|LocationCode|RaceDesc|MaritalDesc|Performance Score|Current Employee Rating|performance_numeric|      DepartmentType|max_performance_score|\n",
            "+-----+---------+--------+---------+---------+--------------------+----------------+------------+--------------------+------------+-------+--------------------------+---------------+--------------------+--------------------+----------+-----+----------------------+----------+------------+--------+-----------+-----------------+-----------------------+-------------------+--------------------+---------------------+\n",
            "| 3703|  Addisyn|Guerrero|31-Aug-20|26-Jun-22|Production Techni...|        Cory Lee|          EW|              Active|   Part-Time| Zone A|                 Part-Time|    Resignation|   Production       |           Engineers|15-02-1951|   MA|              Engineer|    Female|       87563|   White|    Widowed|          Exceeds|                      4|                  3|   Production       |                    3|\n",
            "| 3541|    Aaron|   Weber|06-Apr-20|24-Jul-23|  Area Sales Manager|  Melanie Garcia|         SVG|              Active|   Full-Time| Zone B|                 Full-Time|    Involuntary|               Sales|    Field Operations|27-10-1991|   IN|            Technician|      Male|       78938|   Black|    Married|          Exceeds|                      2|                  3|               Sales|                    3|\n",
            "| 3450|   Reilly|   Moyer|01-Sep-20|04-Dec-22|  Area Sales Manager|  Stanley Harvey|         MSC|              Active|    Contract| Zone C|                 Temporary|    Resignation|               Sales|    Field Operations|11-08-1994|   CO|              Operator|      Male|       11765|   Other|     Single|          Exceeds|                      2|                  3|               Sales|                    3|\n",
            "| 3708|     Case|  Gaines|21-Aug-20|20-Sep-22|Production Techni...|    Morgan Smith|         SVG|              Active|   Full-Time| Zone C|                 Part-Time|    Resignation|   Production       |            Fielders|19-02-1974|   MA|              Engineer|      Male|       13899|   Black|    Married|          Exceeds|                      4|                  3|   Production       |                    3|\n",
            "| 3459|   Saniya|      Yu|18-Apr-21|21-Jun-22|  Area Sales Manager|     Erin Bailey|        CCDR|        Future Start|   Part-Time| Zone A|                 Full-Time|     Retirement|               Sales|       General - Con|09-02-1944|   TX|               Splicer|      Male|        8779|   Black|    Widowed|          Exceeds|                      2|                  3|               Sales|                    3|\n",
            "| 3964|   Marlee| Stevens|07-Jun-21|25-Jan-23|      Sr. Accountant|   Wendy Jackson|         PYZ|        Future Start|   Part-Time| Zone A|                 Temporary|    Involuntary|               IT/IS|              Aerial|26-02-2001|   MA|               Lineman|      Male|       21007|   Black|     Single|          Exceeds|                      3|                  3|               IT/IS|                    3|\n",
            "| 3966|   Konner|Villegas|19-Oct-18|04-Sep-21|   Software Engineer|      Ruth Myers|         NEL|        Future Start|    Contract| Zone A|                 Part-Time|      Voluntary|Software Engineering|    Field Operations|28-04-1978|   MA|               Laborer|    Female|        5707|   Black|     Single|      Fully Meets|                      3|                  2|Software Engineering|                    2|\n",
            "| 3659|   Kaylee| Baldwin|02-Oct-19|13-Oct-19|Production Techni...|     Eric Powell|        CCDR|              Active|   Full-Time| Zone A|                 Part-Time|      Voluntary|   Production       |    Field Operations|30-10-1989|   MA|              Engineer|      Male|       86746|   Other|   Divorced|          Exceeds|                      1|                  3|   Production       |                    3|\n",
            "| 3540|     Maya|  Mccann|12-Mar-20|09-Oct-22|  Area Sales Manager| Dakota Robinson|        CCDR|              Active|   Full-Time| Zone B|                 Part-Time|     Retirement|               Sales|            Splicing|09-06-1983|   CO|            Supervisor|      Male|       18721|   White|    Widowed|          Exceeds|                      4|                  3|               Sales|                    3|\n",
            "| 3974|   Zander|  Franco|25-Dec-18|10-Jul-19|      Data Architect|   Ronnie Garcia|         BPC|Terminated for Cause|   Part-Time| Zone C|                 Full-Time|    Involuntary|               IT/IS|       General - Eng|07-01-1986|   TX|              Engineer|      Male|       97255|   Other|    Married|          Exceeds|                      3|                  3|               IT/IS|                    3|\n",
            "| 3573| Jennifer|Medeiros|09-Mar-20|17-Oct-21|Production Techni...| Brittany Martin|         NEL|              Active|    Contract| Zone B|                 Full-Time|    Involuntary|   Production       |    Field Operations|26-10-1983|   MA|               Driller|    Female|        2346|   Asian|   Divorced|          Exceeds|                      4|                  3|   Production       |                    3|\n",
            "| 3663|  Brandon|Anderson|07-Oct-19|22-Jan-22|Production Techni...|    Sean Kennedy|          PL|        Future Start|   Part-Time| Zone B|                 Full-Time|     Retirement|   Production       |       General - Con|23-11-1977|   MA|               Foreman|    Female|       13534|   Black|     Single|          Exceeds|                      3|                  3|   Production       |                    3|\n",
            "| 3973| Brooklyn|  Tanner|21-Sep-18|22-Jun-23|Database Administ...|      Jason Sims|         WBL|Terminated for Cause|   Part-Time| Zone C|                 Temporary|    Resignation|               IT/IS|    Field Operations|22-05-1973|   TX|               Laborer|    Female|       50856|Hispanic|     Single|          Exceeds|                      3|                  3|               IT/IS|                    3|\n",
            "| 3576|   Angela|  Erilus|21-Jul-21|26-Apr-23|Production Techni...|   Marc Cummings|          PL|              Active|   Full-Time| Zone B|                 Full-Time|      Voluntary|   Production       |           Engineers|26-04-1992|   MA|       Project Manager|    Female|        2133|   Asian|     Single|          Exceeds|                      4|                  3|   Production       |                    3|\n",
            "| 3829|Jaqueline| Pittman|27-Jan-19|26-Feb-21|Sr. Network Engineer|    Jesse Newman|         BPC|              Active|   Part-Time| Zone C|                 Full-Time|    Resignation|               IT/IS|Project Managemen...|12-03-1956|   MA|               Manager|      Male|       55408|   Other|    Married|          Exceeds|                      3|                  3|               IT/IS|                    3|\n",
            "| 3546|    Paris|    Carr|31-Jul-21|27-Jan-23|  Area Sales Manager| Jeffrey Huffman|        CCDR|              Active|   Full-Time| Zone B|                 Part-Time|      Voluntary|               Sales|       General - Con|14-07-1980|   ND|               Foreman|      Male|       35786|Hispanic|    Widowed|          Exceeds|                      1|                  3|               Sales|                    3|\n",
            "| 3693|     Amya|    Vega|20-May-19|30-Aug-20|Production Techni...|     Alexa Smith|         SVG|              Active|   Part-Time| Zone B|                 Temporary|    Involuntary|   Production       |Project Managemen...|01-08-1977|   MA|  Field Project Man...|    Female|       13727|   White|    Married|          Exceeds|                      2|                  3|   Production       |                    3|\n",
            "| 3556|   Damien|    Howe|18-Jul-19|15-Jan-20|  Area Sales Manager|  Sarah Petersen|        CCDR|              Active|   Full-Time| Zone B|                 Temporary|     Retirement|               Sales|Wireline Construc...|16-06-1961|   CA|                    Vp|      Male|       86009|   White|     Single|          Exceeds|                      2|                  3|               Sales|                    3|\n",
            "| 3970|     Macy| Webster|04-Oct-20|27-Apr-23|Database Administ...| Cynthia Gardner|         PYZ|              Active|   Part-Time| Zone B|                 Full-Time|      Voluntary|               IT/IS|    Field Operations|08-11-1950|   MA|               Foreman|    Female|       44077|   Other|    Married|          Exceeds|                      3|                  3|               IT/IS|                    3|\n",
            "| 3796|Jefferson|   White|17-Apr-19|02-Dec-21|Production Techni...|Connie Blackburn|         SVG|              Active|    Contract| Zone A|                 Part-Time|    Resignation|   Production       |       General - Con|27-08-1964|   MA|               Laborer|    Female|       82019|Hispanic|    Married|          Exceeds|                      3|                  3|   Production       |                    3|\n",
            "+-----+---------+--------+---------+---------+--------------------+----------------+------------+--------------------+------------+-------+--------------------------+---------------+--------------------+--------------------+----------+-----+----------------------+----------+------------+--------+-----------+-----------------+-----------------------+-------------------+--------------------+---------------------+\n",
            "only showing top 20 rows\n",
            "\n"
          ]
        }
      ]
    },
    {
      "cell_type": "code",
      "source": [],
      "metadata": {
        "id": "UXcobqVsDPZu"
      },
      "execution_count": null,
      "outputs": []
    }
  ]
}