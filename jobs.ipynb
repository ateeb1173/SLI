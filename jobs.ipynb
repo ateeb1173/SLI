{
  "nbformat": 4,
  "nbformat_minor": 0,
  "metadata": {
    "colab": {
      "provenance": []
    },
    "kernelspec": {
      "name": "python3",
      "display_name": "Python 3"
    },
    "language_info": {
      "name": "python"
    }
  },
  "cells": [
    {
      "cell_type": "code",
      "execution_count": 1,
      "metadata": {
        "id": "Ps9yHwDBgEwQ"
      },
      "outputs": [],
      "source": [
        "from pyspark.sql import SparkSession\n",
        "from pyspark.sql import functions as F"
      ]
    },
    {
      "cell_type": "code",
      "source": [
        "spark = SparkSession.builder.appName(\"sales\").getOrCreate()\n",
        "\n",
        "path = \"/content/drive/MyDrive/Colab Notebooks/newDataSets/Cleaned_DS_Jobs.csv\"\n",
        "\n"
      ],
      "metadata": {
        "id": "mZ-dcNdzgF0g"
      },
      "execution_count": 2,
      "outputs": []
    },
    {
      "cell_type": "code",
      "source": [
        "df = spark.read.csv(path,header = True, inferSchema = True)\n",
        "\n",
        "df.show()"
      ],
      "metadata": {
        "colab": {
          "base_uri": "https://localhost:8080/"
        },
        "id": "grPhTB-zgK-J",
        "outputId": "b71435bd-8c41-4f2f-dbcd-18d6dbc66a70"
      },
      "execution_count": 3,
      "outputs": [
        {
          "output_type": "stream",
          "name": "stdout",
          "text": [
            "+--------------------+---------------+------+-----------------+--------------------+--------------------+--------------------+--------------------+---------+-----------+------+-----+-------+\n",
            "|           Job Title|Salary Estimate|Rating|         Location|                Size|   Type of ownership|            Industry|              Sector|job_state|company_age|python|spark|tableau|\n",
            "+--------------------+---------------+------+-----------------+--------------------+--------------------+--------------------+--------------------+---------+-----------+------+-----+-------+\n",
            "|   Sr Data Scientist|       137-171 |   3.1|     New York, NY|1001 to 5000 empl...|Nonprofit Organiz...|  Insurance Carriers|           Insurance|       NY|         27|     0|    0|      0|\n",
            "|      Data Scientist|       137-171 |   4.2|    Chantilly, VA|5001 to 10000 emp...|    Company - Public|Research & Develo...|   Business Services|       VA|         52|     0|    0|      0|\n",
            "|      Data Scientist|       137-171 |   3.8|       Boston, MA|1001 to 5000 empl...|Private Practice ...|          Consulting|   Business Services|       MA|         39|     1|    0|      0|\n",
            "|      Data Scientist|       137-171 |   3.5|       Newton, MA|501 to 1000 emplo...|    Company - Public|Electrical & Elec...|       Manufacturing|       MA|         20|     1|    0|      0|\n",
            "|      Data Scientist|       137-171 |   2.9|     New York, NY| 51 to 200 employees|   Company - Private|Advertising & Mar...|   Business Services|       NY|         22|     1|    0|      0|\n",
            "|      Data Scientist|       137-171 |   4.2|Santa Barbara, CA| 51 to 200 employees|   Company - Private|Computer Hardware...|Information Techn...|       CA|         10|     1|    1|      0|\n",
            "|Data Scientist / ...|       137-171 |   3.9|    Cambridge, MA|    10000+ employees|    Company - Public|Biotech & Pharmac...|Biotech & Pharmac...|       MA|         24|     1|    0|      0|\n",
            "|      Data Scientist|       137-171 |   3.5|      Bedford, MA|1001 to 5000 empl...|    Company - Public|Consumer Electron...|              Retail|       MA|         30|     1|    0|      0|\n",
            "|Staff Data Scient...|       137-171 |   4.4|    San Diego, CA|5001 to 10000 emp...|    Company - Public|Computer Hardware...|Information Techn...|       CA|         37|     0|    0|      0|\n",
            "|      Data Scientist|       137-171 |   3.6|      Chicago, IL| 51 to 200 employees|   Company - Private|Enterprise Softwa...|Information Techn...|       IL|          6|     1|    0|      0|\n",
            "|      Data Scientist|       137-171 |   4.5|      Herndon, VA|501 to 1000 emplo...|   Company - Private|Enterprise Softwa...|Information Techn...|       VA|          8|     1|    0|      0|\n",
            "|      Data Scientist|       137-171 |   4.7|  Saint Louis, MO| 51 to 200 employees|   Company - Private|         IT Services|Information Techn...|       MO|          4|     1|    1|      0|\n",
            "|Data Scientist - ...|       137-171 |   3.7|     Richland, WA|1001 to 5000 empl...|          Government|              Energy|Oil, Gas, Energy ...|       WA|         55|     0|    0|      0|\n",
            "|        Data Modeler|       137-171 |   3.1|   Northbrook, IL|201 to 500 employees|   Company - Private|Chemical Manufact...|       Manufacturing|       IL|         47|     1|    0|      1|\n",
            "|      Data Scientist|       137-171 |   3.4|   Washington, DC|1001 to 5000 empl...|   Company - Private|          Consulting|   Business Services|       DC|         34|     1|    0|      0|\n",
            "|Experienced Data ...|       137-171 |   4.4|   Washington, DC|   1 to 50 employees|   Company - Private|    Federal Agencies|          Government|       DC|         23|     1|    1|      1|\n",
            "|      Data Scientist|       137-171 |   3.5|      Memphis, TN|1001 to 5000 empl...|   Company - Private|Chemical Manufact...|       Manufacturing|       TN|         75|     1|    0|      0|\n",
            "|     Data Analyst II|       137-171 |   4.2|        Plano, TX|5001 to 10000 emp...|    Company - Public|Enterprise Softwa...|Information Techn...|       TX|         32|     0|    0|      0|\n",
            "|Medical Lab Scien...|       137-171 |   3.5|   West Grove, PA|5001 to 10000 emp...|Nonprofit Organiz...|Health Care Servi...|         Health Care|       PA|          3|     0|    0|      0|\n",
            "|      Data Scientist|       137-171 |   3.2|     New York, NY| 51 to 200 employees|   Company - Private|Computer Hardware...|Information Techn...|       NY|          5|     0|    0|      0|\n",
            "+--------------------+---------------+------+-----------------+--------------------+--------------------+--------------------+--------------------+---------+-----------+------+-----+-------+\n",
            "only showing top 20 rows\n",
            "\n"
          ]
        }
      ]
    },
    {
      "cell_type": "code",
      "source": [
        "df = df.withColumn(\"min_salary\", F.regexp_extract(F.col(\"Salary Estimate\"),r\"(\\d+)\",1).cast(\"int\"))"
      ],
      "metadata": {
        "id": "u_HHgN4qgU4O"
      },
      "execution_count": 4,
      "outputs": []
    },
    {
      "cell_type": "code",
      "source": [
        "df.show(5)"
      ],
      "metadata": {
        "colab": {
          "base_uri": "https://localhost:8080/"
        },
        "id": "5JCofEC-higT",
        "outputId": "2d90eb16-7737-4d77-92e8-a9cf7a58f4b1"
      },
      "execution_count": 6,
      "outputs": [
        {
          "output_type": "stream",
          "name": "stdout",
          "text": [
            "+-----------------+---------------+------+-------------+--------------------+--------------------+--------------------+-----------------+---------+-----------+------+-----+-------+----------+\n",
            "|        Job Title|Salary Estimate|Rating|     Location|                Size|   Type of ownership|            Industry|           Sector|job_state|company_age|python|spark|tableau|min_salary|\n",
            "+-----------------+---------------+------+-------------+--------------------+--------------------+--------------------+-----------------+---------+-----------+------+-----+-------+----------+\n",
            "|Sr Data Scientist|       137-171 |   3.1| New York, NY|1001 to 5000 empl...|Nonprofit Organiz...|  Insurance Carriers|        Insurance|       NY|         27|     0|    0|      0|       137|\n",
            "|   Data Scientist|       137-171 |   4.2|Chantilly, VA|5001 to 10000 emp...|    Company - Public|Research & Develo...|Business Services|       VA|         52|     0|    0|      0|       137|\n",
            "|   Data Scientist|       137-171 |   3.8|   Boston, MA|1001 to 5000 empl...|Private Practice ...|          Consulting|Business Services|       MA|         39|     1|    0|      0|       137|\n",
            "|   Data Scientist|       137-171 |   3.5|   Newton, MA|501 to 1000 emplo...|    Company - Public|Electrical & Elec...|    Manufacturing|       MA|         20|     1|    0|      0|       137|\n",
            "|   Data Scientist|       137-171 |   2.9| New York, NY| 51 to 200 employees|   Company - Private|Advertising & Mar...|Business Services|       NY|         22|     1|    0|      0|       137|\n",
            "+-----------------+---------------+------+-------------+--------------------+--------------------+--------------------+-----------------+---------+-----------+------+-----+-------+----------+\n",
            "only showing top 5 rows\n",
            "\n"
          ]
        }
      ]
    },
    {
      "cell_type": "code",
      "source": [
        "df = df.withColumn(\"max_salary\", F.regexp_extract(F.col(\"Salary Estimate\"), r\"-(\\d+)\",1).cast(\"int\"))\n",
        "\n",
        "df.show(5)"
      ],
      "metadata": {
        "colab": {
          "base_uri": "https://localhost:8080/"
        },
        "id": "E58dHGyOhg4v",
        "outputId": "f46b66e1-3474-4d73-f934-153b8ba6321a"
      },
      "execution_count": 5,
      "outputs": [
        {
          "output_type": "stream",
          "name": "stdout",
          "text": [
            "+-----------------+---------------+------+-------------+--------------------+--------------------+--------------------+-----------------+---------+-----------+------+-----+-------+----------+----------+\n",
            "|        Job Title|Salary Estimate|Rating|     Location|                Size|   Type of ownership|            Industry|           Sector|job_state|company_age|python|spark|tableau|min_salary|max_salary|\n",
            "+-----------------+---------------+------+-------------+--------------------+--------------------+--------------------+-----------------+---------+-----------+------+-----+-------+----------+----------+\n",
            "|Sr Data Scientist|       137-171 |   3.1| New York, NY|1001 to 5000 empl...|Nonprofit Organiz...|  Insurance Carriers|        Insurance|       NY|         27|     0|    0|      0|       137|       171|\n",
            "|   Data Scientist|       137-171 |   4.2|Chantilly, VA|5001 to 10000 emp...|    Company - Public|Research & Develo...|Business Services|       VA|         52|     0|    0|      0|       137|       171|\n",
            "|   Data Scientist|       137-171 |   3.8|   Boston, MA|1001 to 5000 empl...|Private Practice ...|          Consulting|Business Services|       MA|         39|     1|    0|      0|       137|       171|\n",
            "|   Data Scientist|       137-171 |   3.5|   Newton, MA|501 to 1000 emplo...|    Company - Public|Electrical & Elec...|    Manufacturing|       MA|         20|     1|    0|      0|       137|       171|\n",
            "|   Data Scientist|       137-171 |   2.9| New York, NY| 51 to 200 employees|   Company - Private|Advertising & Mar...|Business Services|       NY|         22|     1|    0|      0|       137|       171|\n",
            "+-----------------+---------------+------+-------------+--------------------+--------------------+--------------------+-----------------+---------+-----------+------+-----+-------+----------+----------+\n",
            "only showing top 5 rows\n",
            "\n"
          ]
        }
      ]
    },
    {
      "cell_type": "code",
      "source": [
        "df = df.withColumn(\"average_salary\", ((F.col(\"min_salary\") + F.col(\"max_salary\"))/2))\n",
        "\n",
        "df.show(5)"
      ],
      "metadata": {
        "colab": {
          "base_uri": "https://localhost:8080/"
        },
        "id": "Ec5y4gYKh5OH",
        "outputId": "a4ccb98d-0e1d-48ba-fe5e-8af359613760"
      },
      "execution_count": 6,
      "outputs": [
        {
          "output_type": "stream",
          "name": "stdout",
          "text": [
            "+-----------------+---------------+------+-------------+--------------------+--------------------+--------------------+-----------------+---------+-----------+------+-----+-------+----------+----------+--------------+\n",
            "|        Job Title|Salary Estimate|Rating|     Location|                Size|   Type of ownership|            Industry|           Sector|job_state|company_age|python|spark|tableau|min_salary|max_salary|average_salary|\n",
            "+-----------------+---------------+------+-------------+--------------------+--------------------+--------------------+-----------------+---------+-----------+------+-----+-------+----------+----------+--------------+\n",
            "|Sr Data Scientist|       137-171 |   3.1| New York, NY|1001 to 5000 empl...|Nonprofit Organiz...|  Insurance Carriers|        Insurance|       NY|         27|     0|    0|      0|       137|       171|         154.0|\n",
            "|   Data Scientist|       137-171 |   4.2|Chantilly, VA|5001 to 10000 emp...|    Company - Public|Research & Develo...|Business Services|       VA|         52|     0|    0|      0|       137|       171|         154.0|\n",
            "|   Data Scientist|       137-171 |   3.8|   Boston, MA|1001 to 5000 empl...|Private Practice ...|          Consulting|Business Services|       MA|         39|     1|    0|      0|       137|       171|         154.0|\n",
            "|   Data Scientist|       137-171 |   3.5|   Newton, MA|501 to 1000 emplo...|    Company - Public|Electrical & Elec...|    Manufacturing|       MA|         20|     1|    0|      0|       137|       171|         154.0|\n",
            "|   Data Scientist|       137-171 |   2.9| New York, NY| 51 to 200 employees|   Company - Private|Advertising & Mar...|Business Services|       NY|         22|     1|    0|      0|       137|       171|         154.0|\n",
            "+-----------------+---------------+------+-------------+--------------------+--------------------+--------------------+-----------------+---------+-----------+------+-----+-------+----------+----------+--------------+\n",
            "only showing top 5 rows\n",
            "\n"
          ]
        }
      ]
    },
    {
      "cell_type": "code",
      "source": [
        "df = df.withColumn(\"Rating\",\n",
        "                   F.when((F.col(\"Rating\") ==  -1) | (F.col(\"Rating\") == 0),1).otherwise(F.col(\"Rating\"))\n",
        "                   )\n",
        "df.show()\n",
        "# df.show()"
      ],
      "metadata": {
        "colab": {
          "base_uri": "https://localhost:8080/"
        },
        "id": "OMhrc71gmHeD",
        "outputId": "5c98620e-86e0-4e5a-b46e-3c6cce659063"
      },
      "execution_count": 7,
      "outputs": [
        {
          "output_type": "stream",
          "name": "stdout",
          "text": [
            "+--------------------+---------------+------+-----------------+--------------------+--------------------+--------------------+--------------------+---------+-----------+------+-----+-------+----------+----------+--------------+\n",
            "|           Job Title|Salary Estimate|Rating|         Location|                Size|   Type of ownership|            Industry|              Sector|job_state|company_age|python|spark|tableau|min_salary|max_salary|average_salary|\n",
            "+--------------------+---------------+------+-----------------+--------------------+--------------------+--------------------+--------------------+---------+-----------+------+-----+-------+----------+----------+--------------+\n",
            "|   Sr Data Scientist|       137-171 |   3.1|     New York, NY|1001 to 5000 empl...|Nonprofit Organiz...|  Insurance Carriers|           Insurance|       NY|         27|     0|    0|      0|       137|       171|         154.0|\n",
            "|      Data Scientist|       137-171 |   4.2|    Chantilly, VA|5001 to 10000 emp...|    Company - Public|Research & Develo...|   Business Services|       VA|         52|     0|    0|      0|       137|       171|         154.0|\n",
            "|      Data Scientist|       137-171 |   3.8|       Boston, MA|1001 to 5000 empl...|Private Practice ...|          Consulting|   Business Services|       MA|         39|     1|    0|      0|       137|       171|         154.0|\n",
            "|      Data Scientist|       137-171 |   3.5|       Newton, MA|501 to 1000 emplo...|    Company - Public|Electrical & Elec...|       Manufacturing|       MA|         20|     1|    0|      0|       137|       171|         154.0|\n",
            "|      Data Scientist|       137-171 |   2.9|     New York, NY| 51 to 200 employees|   Company - Private|Advertising & Mar...|   Business Services|       NY|         22|     1|    0|      0|       137|       171|         154.0|\n",
            "|      Data Scientist|       137-171 |   4.2|Santa Barbara, CA| 51 to 200 employees|   Company - Private|Computer Hardware...|Information Techn...|       CA|         10|     1|    1|      0|       137|       171|         154.0|\n",
            "|Data Scientist / ...|       137-171 |   3.9|    Cambridge, MA|    10000+ employees|    Company - Public|Biotech & Pharmac...|Biotech & Pharmac...|       MA|         24|     1|    0|      0|       137|       171|         154.0|\n",
            "|      Data Scientist|       137-171 |   3.5|      Bedford, MA|1001 to 5000 empl...|    Company - Public|Consumer Electron...|              Retail|       MA|         30|     1|    0|      0|       137|       171|         154.0|\n",
            "|Staff Data Scient...|       137-171 |   4.4|    San Diego, CA|5001 to 10000 emp...|    Company - Public|Computer Hardware...|Information Techn...|       CA|         37|     0|    0|      0|       137|       171|         154.0|\n",
            "|      Data Scientist|       137-171 |   3.6|      Chicago, IL| 51 to 200 employees|   Company - Private|Enterprise Softwa...|Information Techn...|       IL|          6|     1|    0|      0|       137|       171|         154.0|\n",
            "|      Data Scientist|       137-171 |   4.5|      Herndon, VA|501 to 1000 emplo...|   Company - Private|Enterprise Softwa...|Information Techn...|       VA|          8|     1|    0|      0|       137|       171|         154.0|\n",
            "|      Data Scientist|       137-171 |   4.7|  Saint Louis, MO| 51 to 200 employees|   Company - Private|         IT Services|Information Techn...|       MO|          4|     1|    1|      0|       137|       171|         154.0|\n",
            "|Data Scientist - ...|       137-171 |   3.7|     Richland, WA|1001 to 5000 empl...|          Government|              Energy|Oil, Gas, Energy ...|       WA|         55|     0|    0|      0|       137|       171|         154.0|\n",
            "|        Data Modeler|       137-171 |   3.1|   Northbrook, IL|201 to 500 employees|   Company - Private|Chemical Manufact...|       Manufacturing|       IL|         47|     1|    0|      1|       137|       171|         154.0|\n",
            "|      Data Scientist|       137-171 |   3.4|   Washington, DC|1001 to 5000 empl...|   Company - Private|          Consulting|   Business Services|       DC|         34|     1|    0|      0|       137|       171|         154.0|\n",
            "|Experienced Data ...|       137-171 |   4.4|   Washington, DC|   1 to 50 employees|   Company - Private|    Federal Agencies|          Government|       DC|         23|     1|    1|      1|       137|       171|         154.0|\n",
            "|      Data Scientist|       137-171 |   3.5|      Memphis, TN|1001 to 5000 empl...|   Company - Private|Chemical Manufact...|       Manufacturing|       TN|         75|     1|    0|      0|       137|       171|         154.0|\n",
            "|     Data Analyst II|       137-171 |   4.2|        Plano, TX|5001 to 10000 emp...|    Company - Public|Enterprise Softwa...|Information Techn...|       TX|         32|     0|    0|      0|       137|       171|         154.0|\n",
            "|Medical Lab Scien...|       137-171 |   3.5|   West Grove, PA|5001 to 10000 emp...|Nonprofit Organiz...|Health Care Servi...|         Health Care|       PA|          3|     0|    0|      0|       137|       171|         154.0|\n",
            "|      Data Scientist|       137-171 |   3.2|     New York, NY| 51 to 200 employees|   Company - Private|Computer Hardware...|Information Techn...|       NY|          5|     0|    0|      0|       137|       171|         154.0|\n",
            "+--------------------+---------------+------+-----------------+--------------------+--------------------+--------------------+--------------------+---------+-----------+------+-----+-------+----------+----------+--------------+\n",
            "only showing top 20 rows\n",
            "\n"
          ]
        }
      ]
    },
    {
      "cell_type": "code",
      "source": [
        "null_columns = [\n",
        "\n",
        "                F.col for F.col in df.columns if df.filter(df[F.col].isNull()).count() > 0\n",
        "]\n",
        "\n",
        "print(null_columns)"
      ],
      "metadata": {
        "colab": {
          "base_uri": "https://localhost:8080/"
        },
        "id": "YLzmexwlmpS6",
        "outputId": "e75e1421-9140-40e0-c1a7-5078bd73aae4"
      },
      "execution_count": 8,
      "outputs": [
        {
          "output_type": "stream",
          "name": "stdout",
          "text": [
            "['Size', 'Type of ownership', 'Industry', 'Sector']\n"
          ]
        }
      ]
    },
    {
      "cell_type": "code",
      "source": [
        "# for col_name in null_columns:\n",
        "#   df = df.withColumn(col_name, F.col(col_name).fillna(-1))\n",
        "\n",
        "df = df.fillna({\"Size\":-1})\n",
        "df = df.fillna({\"Type of ownership\": -1})\n",
        "df = df.fillna({\"Sector\": -1})\n",
        "\n",
        "df.show(5)"
      ],
      "metadata": {
        "colab": {
          "base_uri": "https://localhost:8080/"
        },
        "id": "6mlJuFY_n8ei",
        "outputId": "7593b3ed-3812-418a-de97-eabd80e80ffe"
      },
      "execution_count": 9,
      "outputs": [
        {
          "output_type": "stream",
          "name": "stdout",
          "text": [
            "+-----------------+---------------+------+-------------+--------------------+--------------------+--------------------+-----------------+---------+-----------+------+-----+-------+----------+----------+--------------+\n",
            "|        Job Title|Salary Estimate|Rating|     Location|                Size|   Type of ownership|            Industry|           Sector|job_state|company_age|python|spark|tableau|min_salary|max_salary|average_salary|\n",
            "+-----------------+---------------+------+-------------+--------------------+--------------------+--------------------+-----------------+---------+-----------+------+-----+-------+----------+----------+--------------+\n",
            "|Sr Data Scientist|       137-171 |   3.1| New York, NY|1001 to 5000 empl...|Nonprofit Organiz...|  Insurance Carriers|        Insurance|       NY|         27|     0|    0|      0|       137|       171|         154.0|\n",
            "|   Data Scientist|       137-171 |   4.2|Chantilly, VA|5001 to 10000 emp...|    Company - Public|Research & Develo...|Business Services|       VA|         52|     0|    0|      0|       137|       171|         154.0|\n",
            "|   Data Scientist|       137-171 |   3.8|   Boston, MA|1001 to 5000 empl...|Private Practice ...|          Consulting|Business Services|       MA|         39|     1|    0|      0|       137|       171|         154.0|\n",
            "|   Data Scientist|       137-171 |   3.5|   Newton, MA|501 to 1000 emplo...|    Company - Public|Electrical & Elec...|    Manufacturing|       MA|         20|     1|    0|      0|       137|       171|         154.0|\n",
            "|   Data Scientist|       137-171 |   2.9| New York, NY| 51 to 200 employees|   Company - Private|Advertising & Mar...|Business Services|       NY|         22|     1|    0|      0|       137|       171|         154.0|\n",
            "+-----------------+---------------+------+-------------+--------------------+--------------------+--------------------+-----------------+---------+-----------+------+-----+-------+----------+----------+--------------+\n",
            "only showing top 5 rows\n",
            "\n"
          ]
        }
      ]
    },
    {
      "cell_type": "code",
      "source": [
        "df_temp = df.groupBy(\"Job Title\").agg(F.avg(\"average_salary\").alias(\"mean_salary\"))\n",
        "\n",
        "df_temp.show()"
      ],
      "metadata": {
        "colab": {
          "base_uri": "https://localhost:8080/"
        },
        "id": "isHoIWhzoWda",
        "outputId": "7b72eed3-57cb-47c6-8e1b-361ff1b5ec14"
      },
      "execution_count": 10,
      "outputs": [
        {
          "output_type": "stream",
          "name": "stdout",
          "text": [
            "+--------------------+-----------------+\n",
            "|           Job Title|      mean_salary|\n",
            "+--------------------+-----------------+\n",
            "|Senior Data Scien...|99.33333333333333|\n",
            "|Clinical Data Ana...|            164.5|\n",
            "|Senior Business I...|             90.0|\n",
            "|Data Analyst/Engi...|            115.5|\n",
            "|Staff BI and Data...|            107.0|\n",
            "|Intelligence Data...|            90.75|\n",
            "|Report Writer-Dat...|             92.5|\n",
            "|Hydrogen/Tritium ...|            148.0|\n",
            "|Business Intellig...|           109.25|\n",
            "|        Data Modeler|            154.0|\n",
            "|Scientist / Group...|            197.5|\n",
            "|Senior Research S...|            105.0|\n",
            "|Software Engineer...|            164.5|\n",
            "|   Sr Data Scientist|           126.75|\n",
            "|COMPUTER SCIENTIS...|            271.5|\n",
            "|Data Scientist/Ma...|            125.5|\n",
            "|Data Scientist - ...|            120.5|\n",
            "|  Decision Scientist|             94.5|\n",
            "|Data Scientist - ...|            97.75|\n",
            "|Data Scientist / ...|            128.5|\n",
            "+--------------------+-----------------+\n",
            "only showing top 20 rows\n",
            "\n"
          ]
        }
      ]
    },
    {
      "cell_type": "code",
      "source": [
        "df_avg_salary = df.groupBy(\"size\").agg(F.avg(\"average_salary\").alias(\"avg_salary\")).orderBy(\"avg_salary\", ascending = False)\n",
        "\n",
        "df_avg_salary.show()"
      ],
      "metadata": {
        "colab": {
          "base_uri": "https://localhost:8080/"
        },
        "id": "Va2VCVouqLST",
        "outputId": "2df8be91-cc46-4ea6-e936-ce5ad4d77edc"
      },
      "execution_count": 20,
      "outputs": [
        {
          "output_type": "stream",
          "name": "stdout",
          "text": [
            "+--------------------+------------------+\n",
            "|                size|        avg_salary|\n",
            "+--------------------+------------------+\n",
            "|             Unknown|143.38235294117646|\n",
            "|                  -1| 130.7962962962963|\n",
            "| 51 to 200 employees|      127.83203125|\n",
            "|5001 to 10000 emp...| 126.6639344262295|\n",
            "|    10000+ employees|122.80379746835443|\n",
            "|1001 to 5000 empl...| 121.7548076923077|\n",
            "|501 to 1000 emplo...|120.93506493506493|\n",
            "|   1 to 50 employees|             120.0|\n",
            "|201 to 500 employees| 119.1987951807229|\n",
            "+--------------------+------------------+\n",
            "\n"
          ]
        }
      ]
    },
    {
      "cell_type": "code",
      "source": [
        "df.write.mode(\"overwrite\").option(\"header\",\"True\").csv(\"/content/jobs_data.csv\")"
      ],
      "metadata": {
        "id": "hE_kLoiSsIsK"
      },
      "execution_count": 11,
      "outputs": []
    }
  ]
}