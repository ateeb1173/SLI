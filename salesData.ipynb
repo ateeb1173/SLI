{
  "nbformat": 4,
  "nbformat_minor": 0,
  "metadata": {
    "colab": {
      "provenance": []
    },
    "kernelspec": {
      "name": "python3",
      "display_name": "Python 3"
    },
    "language_info": {
      "name": "python"
    }
  },
  "cells": [
    {
      "cell_type": "code",
      "execution_count": 1,
      "metadata": {
        "id": "1azYZrd5UuJG"
      },
      "outputs": [],
      "source": [
        "from pyspark.sql import SparkSession\n",
        "from pyspark.sql import functions as F"
      ]
    },
    {
      "cell_type": "code",
      "source": [
        "spark = SparkSession.builder.appName(\"sales\").getOrCreate()\n",
        "\n",
        "path = \"/content/drive/MyDrive/Colab Notebooks/newDataSets/Sales Data.csv\"\n",
        "\n",
        "df = spark.read.csv(path,header = True, inferSchema = True)\n",
        "\n",
        "df.show()"
      ],
      "metadata": {
        "colab": {
          "base_uri": "https://localhost:8080/"
        },
        "id": "eewyRDSDWRvx",
        "outputId": "6219a6a4-cbed-4df7-f838-02ed58df7538"
      },
      "execution_count": 46,
      "outputs": [
        {
          "output_type": "stream",
          "name": "stdout",
          "text": [
            "+---+--------+--------------------+----------------+----------+----------------+--------------------+-----+------+--------------+----+\n",
            "|_c0|Order ID|             Product|Quantity Ordered|Price Each|      Order Date|    Purchase Address|Month| Sales|          City|Hour|\n",
            "+---+--------+--------------------+----------------+----------+----------------+--------------------+-----+------+--------------+----+\n",
            "|  0|  295665|  Macbook Pro Laptop|               1|    1700.0|30-12-2019 00:01|136 Church St, Ne...|   12|1700.0| New York City|   0|\n",
            "|  1|  295666|  LG Washing Machine|               1|     600.0|29-12-2019 07:03|562 2nd St, New Y...|   12| 600.0| New York City|   7|\n",
            "|  2|  295667|USB-C Charging Cable|               1|     11.95|12-12-2019 18:21|277 Main St, New ...|   12| 11.95| New York City|  18|\n",
            "|  3|  295668|    27in FHD Monitor|               1|    149.99|22-12-2019 15:13|410 6th St, San F...|   12|149.99| San Francisco|  15|\n",
            "|  4|  295669|USB-C Charging Cable|               1|     11.95|18-12-2019 12:38|43 Hill St, Atlan...|   12| 11.95|       Atlanta| -12|\n",
            "|  5|  295670|AA Batteries (4-p...|               1|      3.84|31-12-2019 22:58|200 Jefferson St,...|   12|  NULL| New York City| 122|\n",
            "|  6|  295671|USB-C Charging Cable|               1|     11.95|16-12-2019 15:10|928 12th St, Port...|   12| 11.95|      Portland|  15|\n",
            "|  7|  295672|USB-C Charging Cable|               2|     11.95|13-12-2019 09:29|813 Hickory St, D...|   12|  23.9|        Dallas|   9|\n",
            "|  8|  295673|Bose SoundSport H...|               1|     99.99|15-12-2019 23:26|718 Wilson St, Da...|   12| 99.99|        Dallas|  23|\n",
            "|  9|  295674|AAA Batteries (4-...|               4|      2.99|28-12-2019 11:51|77 7th St, Dallas...|   12| 11.96|        Dallas|  11|\n",
            "| 10|  295675|USB-C Charging Cable|               2|     11.95|13-12-2019 13:52|594 1st St, San F...|   12|  23.9| San Francisco|  13|\n",
            "| 11|  295676|     ThinkPad Laptop|               1|    999.99|28-12-2019 17:19|410 Lincoln St, L...|   12|999.99|   Los Angeles|  17|\n",
            "| 12|  295677|AA Batteries (4-p...|               2|      3.84|20-12-2019 19:19|866 Pine St, Bost...|   12|  7.68|        Boston| -19|\n",
            "| 13|  295678|AAA Batteries (4-...|               2|      2.99|06-12-2019 09:38|187 Lincoln St, D...|   12|  5.98|        Dallas|   9|\n",
            "| 14|  295679|USB-C Charging Cable|               1|     11.95|25-12-2019 09:39|902 2nd St, Dalla...|   12| 11.95|        Dallas|   9|\n",
            "| 15|  295680|Lightning Chargin...|               1|     14.95|01-12-2019 14:30|338 Main St, Aust...|   12| 14.95|        Austin|  14|\n",
            "| 16|  295681|        Google Phone|               1|     600.0|25-12-2019 12:37|79 Elm St, Boston...|   12| 600.0|        Boston|  12|\n",
            "| 17|  295681|USB-C Charging Cable|               1|     11.95|25-12-2019 12:37|79 Elm St, Boston...|   12|  NULL|        Boston|  12|\n",
            "| 18|  295681|Bose SoundSport H...|               1|     99.99|25-12-2019 12:37|79 Elm St, Boston...|   12| 99.99|        Boston|  12|\n",
            "| 19|  295681|    Wired Headphones|               1|     11.99|25-12-2019 12:37|79 Elm St, Boston...|   12| 11.99|        Boston|  12|\n",
            "+---+--------+--------------------+----------------+----------+----------------+--------------------+-----+------+--------------+----+\n",
            "only showing top 20 rows\n",
            "\n"
          ]
        }
      ]
    },
    {
      "cell_type": "code",
      "source": [
        "cols_with_missing = [\n",
        "    F.col for F.col in df.columns if df.filter(df[F.col].isNull()).count() > 0\n",
        "]\n",
        "print(cols_with_missing)\n",
        "\n",
        "# df.filter(F.col(\"Order ID\").isNull()).show()\n",
        "# df.filter(F.col(\"Product\").isNull()).show()\n",
        "# df.filter(F.col(\"Price Each\").isNull()).show()\n",
        "# df.filter(F.col(\"Order Date\").isNull()).show()\n",
        "# df.filter(F.col(\"Purchase Address\").isNull()).show()\n",
        "# df.filter(F.col(\"Month\").isNull()).show()\n",
        "# df.filter(F.col(\"Sales\").isNull()).show()\n",
        "# df.filter(F.col(\"City\").isNull()).show()\n",
        "# df.filter(F.col(\"City\").isNull()).show()\n",
        "\n",
        "df=df.dropna(subset =[\"Sales\"])\n",
        "# df.filter(F.col(\"Sales\").isNull()).show()"
      ],
      "metadata": {
        "colab": {
          "base_uri": "https://localhost:8080/"
        },
        "id": "GqkKaLb4Yjf5",
        "outputId": "f5ac4592-c2cb-48cc-e8f9-745156111d21"
      },
      "execution_count": 47,
      "outputs": [
        {
          "output_type": "stream",
          "name": "stdout",
          "text": [
            "['Sales']\n"
          ]
        }
      ]
    },
    {
      "cell_type": "code",
      "source": [
        "df = df.dropDuplicates()"
      ],
      "metadata": {
        "id": "p8UQ8v9qZFwf"
      },
      "execution_count": 49,
      "outputs": []
    },
    {
      "cell_type": "code",
      "source": [
        "df.printSchema()"
      ],
      "metadata": {
        "colab": {
          "base_uri": "https://localhost:8080/"
        },
        "id": "X6XHUQOQbhaP",
        "outputId": "fe71a89e-24dd-42e9-9ff5-1913087fccfa"
      },
      "execution_count": 50,
      "outputs": [
        {
          "output_type": "stream",
          "name": "stdout",
          "text": [
            "root\n",
            " |-- _c0: integer (nullable = true)\n",
            " |-- Order ID: integer (nullable = true)\n",
            " |-- Product: string (nullable = true)\n",
            " |-- Quantity Ordered: integer (nullable = true)\n",
            " |-- Price Each: double (nullable = true)\n",
            " |-- Order Date: string (nullable = true)\n",
            " |-- Purchase Address: string (nullable = true)\n",
            " |-- Month: integer (nullable = true)\n",
            " |-- Sales: double (nullable = true)\n",
            " |-- City: string (nullable = true)\n",
            " |-- Hour: integer (nullable = true)\n",
            "\n"
          ]
        }
      ]
    },
    {
      "cell_type": "code",
      "source": [
        "df.show()"
      ],
      "metadata": {
        "colab": {
          "base_uri": "https://localhost:8080/"
        },
        "id": "bEpjRWgbcbXd",
        "outputId": "5da139ca-48c9-4829-d2e0-1acf6e0b8de2"
      },
      "execution_count": 51,
      "outputs": [
        {
          "output_type": "stream",
          "name": "stdout",
          "text": [
            "+----+--------+--------------------+----------------+----------+----------------+--------------------+-----+------+--------------+----+\n",
            "| _c0|Order ID|             Product|Quantity Ordered|Price Each|      Order Date|    Purchase Address|Month| Sales|          City|Hour|\n",
            "+----+--------+--------------------+----------------+----------+----------------+--------------------+-----+------+--------------+----+\n",
            "| 297|  295941|     ThinkPad Laptop|               1|    999.99|31-12-2019 16:24|64 Dogwood St, Po...|   12|999.99|      Portland|  16|\n",
            "| 464|  296105|Lightning Chargin...|               1|     14.95|29-12-2019 17:57|134 Dogwood St, S...|   12| 14.95| San Francisco|  17|\n",
            "| 532|  296169|              iPhone|               1|     700.0|10-12-2019 22:31|111 Hickory St, S...|   12| 700.0|       Seattle|  22|\n",
            "| 628|  296263|    Wired Headphones|               1|     11.99|11-12-2019 18:04|229 Pine St, San ...|   12| 11.99| San Francisco|  18|\n",
            "| 721|  296351|     ThinkPad Laptop|               1|    999.99|24-12-2019 17:57|168 10th St, Port...|   12|999.99|      Portland|  17|\n",
            "|1203|  296811|34in Ultrawide Mo...|               1|    379.99|10-12-2019 07:39|485 11th St, Port...|   12|379.99|      Portland|   7|\n",
            "|1395|  296992|Apple Airpods Hea...|               1|     150.0|09-12-2019 18:46|410 Washington St...|   12| 150.0|        Dallas|  18|\n",
            "|1414|  297009|  Macbook Pro Laptop|               1|    1700.0|16-12-2019 08:07|779 Maple St, San...|   12|1700.0| San Francisco|   8|\n",
            "|1431|  297025|34in Ultrawide Mo...|               1|    379.99|18-12-2019 12:04|836 Forest St, Bo...|   12|379.99|        Boston|  12|\n",
            "|1670|  297251|              iPhone|               1|     700.0|19-12-2019 20:19|835 Main St, Aust...|   12| 700.0|        Austin|  20|\n",
            "|1782|  297356|27in 4K Gaming Mo...|               1|    389.99|18-12-2019 22:01|769 14th St, Dall...|   12|389.99|        Dallas|  22|\n",
            "|1982|  297548|USB-C Charging Cable|               1|     11.95|27-12-2019 23:04|24 Pine St, New Y...|   12| 11.95| New York City|  23|\n",
            "|2037|  297596|       Flatscreen TV|               1|     300.0|10-12-2019 18:45|301 13th St, Los ...|   12| 300.0|   Los Angeles|  18|\n",
            "|2563|  298104|AA Batteries (4-p...|               1|      3.84|16-12-2019 22:30|955 Johnson St, L...|   12|  3.84|   Los Angeles|  22|\n",
            "|2746|  298285|Lightning Chargin...|               1|     14.95|21-12-2019 12:19|966 Lincoln St, S...|   12| 14.95| San Francisco|  12|\n",
            "|2887|  298422|Lightning Chargin...|               1|     14.95|19-12-2019 20:24|249 Wilson St, Da...|   12| 14.95|        Dallas|  20|\n",
            "|3431|  298934|    Wired Headphones|               1|     11.99|11-12-2019 10:28|400 Highland St, ...|   12| 11.99|       Seattle|  10|\n",
            "|3469|  298972|    Wired Headphones|               1|     11.99|06-12-2019 14:32|80 Elm St, Los An...|   12| 11.99|   Los Angeles|  14|\n",
            "|4135|  299597|Bose SoundSport H...|               1|     99.99|05-12-2019 10:29|606 Willow St, Ne...|   12| 99.99| New York City|  10|\n",
            "|4244|  299700|AA Batteries (4-p...|               1|      3.84|20-12-2019 06:34|371 Cedar St, Dal...|   12|  3.84|        Dallas|   6|\n",
            "+----+--------+--------------------+----------------+----------+----------------+--------------------+-----+------+--------------+----+\n",
            "only showing top 20 rows\n",
            "\n"
          ]
        }
      ]
    },
    {
      "cell_type": "code",
      "source": [
        "from pyspark.sql.functions import col\n",
        "\n",
        "negative_rows = [\n",
        "    col for col in df.columns if df.filter(df[col] < 0).count() > 0\n",
        "]\n",
        "\n",
        "print(negative_rows)\n",
        "\n",
        "df = df.filter(\n",
        "    (df[\"Sales\"] >= 0) &\n",
        "    (df[\"Price Each\"] >= 0) &\n",
        "    (df[\"Quantity Ordered\"] >= 0)\n",
        ")\n",
        "\n",
        "df.show()"
      ],
      "metadata": {
        "colab": {
          "base_uri": "https://localhost:8080/"
        },
        "id": "uDj8s4DmbksW",
        "outputId": "6fb9bbdb-282f-4b5e-ebe2-0f2b716dec03"
      },
      "execution_count": 52,
      "outputs": [
        {
          "output_type": "stream",
          "name": "stdout",
          "text": [
            "['Hour']\n",
            "+----+--------+--------------------+----------------+----------+----------------+--------------------+-----+------+--------------+----+\n",
            "| _c0|Order ID|             Product|Quantity Ordered|Price Each|      Order Date|    Purchase Address|Month| Sales|          City|Hour|\n",
            "+----+--------+--------------------+----------------+----------+----------------+--------------------+-----+------+--------------+----+\n",
            "| 297|  295941|     ThinkPad Laptop|               1|    999.99|31-12-2019 16:24|64 Dogwood St, Po...|   12|999.99|      Portland|  16|\n",
            "| 464|  296105|Lightning Chargin...|               1|     14.95|29-12-2019 17:57|134 Dogwood St, S...|   12| 14.95| San Francisco|  17|\n",
            "| 532|  296169|              iPhone|               1|     700.0|10-12-2019 22:31|111 Hickory St, S...|   12| 700.0|       Seattle|  22|\n",
            "| 628|  296263|    Wired Headphones|               1|     11.99|11-12-2019 18:04|229 Pine St, San ...|   12| 11.99| San Francisco|  18|\n",
            "| 721|  296351|     ThinkPad Laptop|               1|    999.99|24-12-2019 17:57|168 10th St, Port...|   12|999.99|      Portland|  17|\n",
            "|1203|  296811|34in Ultrawide Mo...|               1|    379.99|10-12-2019 07:39|485 11th St, Port...|   12|379.99|      Portland|   7|\n",
            "|1395|  296992|Apple Airpods Hea...|               1|     150.0|09-12-2019 18:46|410 Washington St...|   12| 150.0|        Dallas|  18|\n",
            "|1414|  297009|  Macbook Pro Laptop|               1|    1700.0|16-12-2019 08:07|779 Maple St, San...|   12|1700.0| San Francisco|   8|\n",
            "|1431|  297025|34in Ultrawide Mo...|               1|    379.99|18-12-2019 12:04|836 Forest St, Bo...|   12|379.99|        Boston|  12|\n",
            "|1670|  297251|              iPhone|               1|     700.0|19-12-2019 20:19|835 Main St, Aust...|   12| 700.0|        Austin|  20|\n",
            "|1782|  297356|27in 4K Gaming Mo...|               1|    389.99|18-12-2019 22:01|769 14th St, Dall...|   12|389.99|        Dallas|  22|\n",
            "|1982|  297548|USB-C Charging Cable|               1|     11.95|27-12-2019 23:04|24 Pine St, New Y...|   12| 11.95| New York City|  23|\n",
            "|2037|  297596|       Flatscreen TV|               1|     300.0|10-12-2019 18:45|301 13th St, Los ...|   12| 300.0|   Los Angeles|  18|\n",
            "|2563|  298104|AA Batteries (4-p...|               1|      3.84|16-12-2019 22:30|955 Johnson St, L...|   12|  3.84|   Los Angeles|  22|\n",
            "|2746|  298285|Lightning Chargin...|               1|     14.95|21-12-2019 12:19|966 Lincoln St, S...|   12| 14.95| San Francisco|  12|\n",
            "|2887|  298422|Lightning Chargin...|               1|     14.95|19-12-2019 20:24|249 Wilson St, Da...|   12| 14.95|        Dallas|  20|\n",
            "|3431|  298934|    Wired Headphones|               1|     11.99|11-12-2019 10:28|400 Highland St, ...|   12| 11.99|       Seattle|  10|\n",
            "|3469|  298972|    Wired Headphones|               1|     11.99|06-12-2019 14:32|80 Elm St, Los An...|   12| 11.99|   Los Angeles|  14|\n",
            "|4135|  299597|Bose SoundSport H...|               1|     99.99|05-12-2019 10:29|606 Willow St, Ne...|   12| 99.99| New York City|  10|\n",
            "|4244|  299700|AA Batteries (4-p...|               1|      3.84|20-12-2019 06:34|371 Cedar St, Dal...|   12|  3.84|        Dallas|   6|\n",
            "+----+--------+--------------------+----------------+----------+----------------+--------------------+-----+------+--------------+----+\n",
            "only showing top 20 rows\n",
            "\n"
          ]
        }
      ]
    },
    {
      "cell_type": "code",
      "source": [
        "df_temp = df.groupBy(\"Product\").agg(F.sum(\"Sales\").alias(\"total_sales\"))\n",
        "\n",
        "df = df.join(df_temp, on=\"Product\",how=\"left\")\n",
        "\n",
        "df.show(5)"
      ],
      "metadata": {
        "colab": {
          "base_uri": "https://localhost:8080/"
        },
        "id": "jo409ET1b1If",
        "outputId": "1fad0ed7-a7cd-43a3-b341-cdf8402c5977"
      },
      "execution_count": 56,
      "outputs": [
        {
          "output_type": "stream",
          "name": "stdout",
          "text": [
            "+--------------------+---+--------+----------------+----------+----------------+--------------------+-----+------+--------------+----+------------------+\n",
            "|             Product|_c0|Order ID|Quantity Ordered|Price Each|      Order Date|    Purchase Address|Month| Sales|          City|Hour|       total_sales|\n",
            "+--------------------+---+--------+----------------+----------+----------------+--------------------+-----+------+--------------+----+------------------+\n",
            "|     ThinkPad Laptop|297|  295941|               1|    999.99|31-12-2019 16:24|64 Dogwood St, Po...|   12|999.99|      Portland|  16| 4129958.699999965|\n",
            "|Lightning Chargin...|464|  296105|               1|     14.95|29-12-2019 17:57|134 Dogwood St, S...|   12| 14.95| San Francisco|  17| 347094.1500000221|\n",
            "|              iPhone|532|  296169|               1|     700.0|10-12-2019 22:31|111 Hickory St, S...|   12| 700.0|       Seattle|  22|         4794300.0|\n",
            "|    Wired Headphones|628|  296263|               1|     11.99|11-12-2019 18:04|229 Pine St, San ...|   12| 11.99| San Francisco|  18|246466.44000003487|\n",
            "|     ThinkPad Laptop|721|  296351|               1|    999.99|24-12-2019 17:57|168 10th St, Port...|   12|999.99|      Portland|  17| 4129958.699999965|\n",
            "+--------------------+---+--------+----------------+----------+----------------+--------------------+-----+------+--------------+----+------------------+\n",
            "only showing top 5 rows\n",
            "\n"
          ]
        }
      ]
    },
    {
      "cell_type": "code",
      "source": [
        "df = df.join(df_temp,)"
      ],
      "metadata": {
        "id": "XU_iLxnreFf3"
      },
      "execution_count": null,
      "outputs": []
    }
  ]
}